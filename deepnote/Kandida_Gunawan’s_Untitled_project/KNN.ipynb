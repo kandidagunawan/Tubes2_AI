{
  "cells": [
    {
      "cell_type": "markdown",
      "source": "## IMPORT LIBRARIES",
      "metadata": {
        "formattedRanges": [],
        "cell_id": "9d3d600713d641fa918b6a0a10618e37",
        "deepnote_cell_type": "text-cell-h2"
      },
      "block_group": "567ad40d04fe44d1a9aa3f437b5af4f6"
    },
    {
      "cell_type": "code",
      "source": "import pandas as pd\nimport numpy as np\nimport pickle\n\n#scikit-learn\nfrom sklearn.neighbors import KNeighborsClassifier\nfrom sklearn.naive_bayes import GaussianNB\nfrom sklearn.naive_bayes import MultinomialNB\nfrom sklearn.metrics import accuracy_score, precision_score, recall_score, classification_report",
      "metadata": {
        "source_hash": "87111ff1",
        "execution_start": 1701272002040,
        "execution_millis": 7,
        "deepnote_to_be_reexecuted": false,
        "cell_id": "996c5f0f04874144902e8c2de758e992",
        "deepnote_cell_type": "code"
      },
      "outputs": [],
      "execution_count": 22,
      "block_group": "79ea69e80dcd42b18dc7f930bca88406"
    },
    {
      "cell_type": "markdown",
      "source": "## IMPORT DATASET",
      "metadata": {
        "formattedRanges": [],
        "cell_id": "46894dd27a684503bf4a0cb17bc5663c",
        "deepnote_cell_type": "text-cell-h2"
      },
      "block_group": "07d4f83433334b76a874282d0747de43"
    },
    {
      "cell_type": "code",
      "source": "data_train = pd.read_csv(\"Tubes2_AI/data/data_train.csv\")\ndata_validation = pd.read_csv(\"Tubes2_AI/data/data_validation.csv\")\ndata_test= pd.read_csv(\"Tubes2_AI/data/test.csv\")",
      "metadata": {
        "source_hash": "b3b34217",
        "execution_start": 1701272004949,
        "execution_millis": 730,
        "deepnote_to_be_reexecuted": false,
        "cell_id": "d32d6cd8f37944168f5c7569379f9482",
        "deepnote_cell_type": "code"
      },
      "outputs": [],
      "execution_count": 23,
      "block_group": "446a52eb9a2345479004c0a589ed007b"
    },
    {
      "cell_type": "markdown",
      "source": "## KNN ALGORITHM",
      "metadata": {
        "formattedRanges": [],
        "cell_id": "469ff815572e46ddaea48c576e43ea4c",
        "deepnote_cell_type": "text-cell-h2"
      },
      "block_group": "46121a6280234ef3a0ddcda47fe99d9d"
    },
    {
      "cell_type": "code",
      "source": "# Constants\nk = 50                      \nvote_weight = True                \ncolumn_weight = False\nnormalize = False\ndist_dimension = 2\nclass KNN:\n    def fit(self, X, y):\n        self.X = X\n        self.y = y\n\n    def predict(self, X_test, k: int = k):\n        # Normalize train & test data\n        X = self.X.copy(deep=True)\n        if normalize:\n            all_min = X.min()\n            all_max = X.max()\n\n            X = (X - all_min) / (all_max - all_min)\n            X_test = (X_test - all_min) / (all_max - all_min)\n\n        # Apply weight to each column\n        if column_weight:\n            pearson_weight = data_train.corr()[data_train.columns[-1]][:-1]\n            # pearson_weight *= np.abs(pearson_weight)\n            X = X.apply(lambda row: row * pearson_weight, axis=1)\n            X_test = X_test.apply(lambda row: row * pearson_weight, axis=1)\n\n        # Predict test value\n        y_pred_test = []\n\n        if dist_dimension == 1:\n            dist = np.sum(np.abs(X_test.to_numpy()[:, np.newaxis, :] - X.to_numpy()), axis=2)\n        elif dist_dimension == 2:\n            dist = np.linalg.norm(X_test.to_numpy()[:, np.newaxis, :] - X.to_numpy(), axis=2)\n\n        for row in dist:\n            idx_dist = np.column_stack((row, self.y))\n            idx_dist = idx_dist[np.argsort(idx_dist[:, 0])]\n\n            votes = [0 for i in range(4)]\n            for i in range(k):\n                votes[int(idx_dist[i][1])] += 1 / idx_dist[i][0] if vote_weight else 1\n\n            best_idx = 0\n            for i in range(1, 4):\n                if votes[i] > votes[best_idx]:\n                    best_idx = i\n\n            y_pred_test += [best_idx]\n\n        return y_pred_test\n\ny = data_train['price_range']\nX = data_train.drop('price_range', axis=1)\n\ny_true_test = data_validation['price_range']\nX_test = data_validation.drop('price_range', axis = 1)\n\nknn = KNN()\nknn.fit(X, y)\ny_test = knn.predict(X_test, k)\naccuracy_score_knn = accuracy_score(y_true_test, y_test)\nprecision_score_knn = precision_score(y_true_test, y_test, average='macro')\nrecall_score_knn = recall_score(y_true_test, y_test, average='macro')\n\nprint(f'Accuracy Score of KNN Algorithm : {accuracy_score_knn}')\nprint(f'Precision Score of KNN Algorithm : {precision_score_knn}')\nprint(f'Recall Score of KNN Algorithm : {recall_score_knn}')\n\n\n\n\n# res = []\n# for k in range(41, 61):\n#     res += [[k, 1 - accuracy_score(y_true_test, knn(X, y, X_test, k))]]\n\n# res_df = pd.DataFrame(res, columns=['k', 'error'])\n# res_df",
      "metadata": {
        "source_hash": "bdd80212",
        "execution_start": 1701272008041,
        "execution_millis": 336,
        "deepnote_to_be_reexecuted": false,
        "cell_id": "306c6e18acf64138924f8bae6be2ae7d",
        "deepnote_cell_type": "code"
      },
      "outputs": [
        {
          "name": "stdout",
          "text": "Accuracy Score of KNN Algorithm : 0.935\nPrecision Score of KNN Algorithm : 0.9348889404477712\nRecall Score of KNN Algorithm : 0.9352940689718892\n",
          "output_type": "stream"
        }
      ],
      "execution_count": 24,
      "block_group": "b380ecf2b46146d8bb206d4385ccbad2"
    },
    {
      "cell_type": "markdown",
      "source": "## EXPORT MODEL",
      "metadata": {
        "formattedRanges": [],
        "cell_id": "6b344871fddf43d29d4c82ec204948c9",
        "deepnote_cell_type": "text-cell-h2"
      },
      "block_group": "186ddcafd09142baa2cfde8dacf8c727"
    },
    {
      "cell_type": "code",
      "source": "with open('Tubes2_AI/model-knn.pkl', 'wb') as file:\n    pickle.dump(knn, file)",
      "metadata": {
        "source_hash": "7a77cedc",
        "execution_start": 1701272011048,
        "execution_millis": 403,
        "deepnote_to_be_reexecuted": false,
        "cell_id": "7b285c97bf0047aa93ed9692dd859ed2",
        "deepnote_cell_type": "code"
      },
      "outputs": [],
      "execution_count": 25,
      "block_group": "f548f0e0af6c465fb0e292dd39602469"
    },
    {
      "cell_type": "markdown",
      "source": "## LOAD MODEL",
      "metadata": {
        "formattedRanges": [],
        "cell_id": "a3915e96dbec483a866f7eab98b2089c",
        "deepnote_cell_type": "text-cell-h2"
      },
      "block_group": "275a0a20b6ea490d8d9a65b201b3a898"
    },
    {
      "cell_type": "code",
      "source": "with open('Tubes2_AI/model-knn.pkl', 'rb') as file:\n    loaded_model = pickle.load(file)\n\n\ny_pred_test = loaded_model.predict(X_test, 50)",
      "metadata": {
        "source_hash": "717f2c32",
        "execution_start": 1701272038837,
        "execution_millis": 447,
        "deepnote_to_be_reexecuted": false,
        "cell_id": "a0c8e94c5d114c58993e81af310bd353",
        "deepnote_cell_type": "code"
      },
      "outputs": [],
      "execution_count": 27,
      "block_group": "8b696f21317441cf9704f2a9ac6439c7"
    },
    {
      "cell_type": "markdown",
      "source": "## KNN SUBMISSION FOR  KAGGLE",
      "metadata": {
        "formattedRanges": [],
        "cell_id": "fc83b1bf7e23442d87c8a05fcf441f82",
        "deepnote_cell_type": "text-cell-h2"
      },
      "block_group": "97e44195ede74dc29dcf0765af764bcd"
    },
    {
      "cell_type": "code",
      "source": "#Submission csv\nk = 56   \ndata_test_size = 2000\ntraining_set = data_train.append(data_validation)\ny = training_set['price_range']\nX = training_set.drop('price_range', axis = 1)[:data_test_size]\nX_test = data_test.drop('id', axis = 1)\ny_test= knn(X, y, X_test, k)\nsubmission = pd.concat([data_test['id'], pd.DataFrame(y_test, columns = ['price_range'])], axis = 1)\n\nsubmission.to_csv('Tubes2_AI/out1.csv', index = False)\nsubmission",
      "metadata": {
        "source_hash": "9dca9cad",
        "execution_start": 1701271000465,
        "execution_millis": 1778,
        "deepnote_to_be_reexecuted": true,
        "cell_id": "417674c6500a4bb79b4ea4cd3fb2b351",
        "deepnote_cell_type": "code"
      },
      "outputs": [
        {
          "output_type": "execute_result",
          "execution_count": 4,
          "data": {
            "application/vnd.deepnote.dataframe.v3+json": {
              "column_count": 2,
              "row_count": 2000,
              "columns": [
                {
                  "name": "id",
                  "dtype": "int64",
                  "stats": {
                    "unique_count": 2000,
                    "nan_count": 0,
                    "min": "0",
                    "max": "1999",
                    "histogram": [
                      {
                        "bin_start": 0,
                        "bin_end": 199.9,
                        "count": 200
                      },
                      {
                        "bin_start": 199.9,
                        "bin_end": 399.8,
                        "count": 200
                      },
                      {
                        "bin_start": 399.8,
                        "bin_end": 599.7,
                        "count": 200
                      },
                      {
                        "bin_start": 599.7,
                        "bin_end": 799.6,
                        "count": 200
                      },
                      {
                        "bin_start": 799.6,
                        "bin_end": 999.5,
                        "count": 200
                      },
                      {
                        "bin_start": 999.5,
                        "bin_end": 1199.4,
                        "count": 200
                      },
                      {
                        "bin_start": 1199.4,
                        "bin_end": 1399.3,
                        "count": 200
                      },
                      {
                        "bin_start": 1399.3,
                        "bin_end": 1599.2,
                        "count": 200
                      },
                      {
                        "bin_start": 1599.2,
                        "bin_end": 1799.1000000000001,
                        "count": 200
                      },
                      {
                        "bin_start": 1799.1000000000001,
                        "bin_end": 1999,
                        "count": 200
                      }
                    ]
                  }
                },
                {
                  "name": "price_range",
                  "dtype": "int64",
                  "stats": {
                    "unique_count": 4,
                    "nan_count": 0,
                    "min": "0",
                    "max": "3",
                    "histogram": [
                      {
                        "bin_start": 0,
                        "bin_end": 0.3,
                        "count": 501
                      },
                      {
                        "bin_start": 0.3,
                        "bin_end": 0.6,
                        "count": 0
                      },
                      {
                        "bin_start": 0.6,
                        "bin_end": 0.8999999999999999,
                        "count": 0
                      },
                      {
                        "bin_start": 0.8999999999999999,
                        "bin_end": 1.2,
                        "count": 507
                      },
                      {
                        "bin_start": 1.2,
                        "bin_end": 1.5,
                        "count": 0
                      },
                      {
                        "bin_start": 1.5,
                        "bin_end": 1.7999999999999998,
                        "count": 0
                      },
                      {
                        "bin_start": 1.7999999999999998,
                        "bin_end": 2.1,
                        "count": 502
                      },
                      {
                        "bin_start": 2.1,
                        "bin_end": 2.4,
                        "count": 0
                      },
                      {
                        "bin_start": 2.4,
                        "bin_end": 2.6999999999999997,
                        "count": 0
                      },
                      {
                        "bin_start": 2.6999999999999997,
                        "bin_end": 3,
                        "count": 490
                      }
                    ]
                  }
                },
                {
                  "name": "_deepnote_index_column",
                  "dtype": "int64"
                }
              ],
              "rows": [
                {
                  "id": 0,
                  "price_range": 0,
                  "_deepnote_index_column": 0
                },
                {
                  "id": 1,
                  "price_range": 3,
                  "_deepnote_index_column": 1
                },
                {
                  "id": 2,
                  "price_range": 3,
                  "_deepnote_index_column": 2
                },
                {
                  "id": 3,
                  "price_range": 2,
                  "_deepnote_index_column": 3
                },
                {
                  "id": 4,
                  "price_range": 0,
                  "_deepnote_index_column": 4
                },
                {
                  "id": 5,
                  "price_range": 0,
                  "_deepnote_index_column": 5
                },
                {
                  "id": 6,
                  "price_range": 2,
                  "_deepnote_index_column": 6
                },
                {
                  "id": 7,
                  "price_range": 2,
                  "_deepnote_index_column": 7
                },
                {
                  "id": 8,
                  "price_range": 0,
                  "_deepnote_index_column": 8
                },
                {
                  "id": 9,
                  "price_range": 2,
                  "_deepnote_index_column": 9
                }
              ]
            },
            "text/plain": "        id  price_range\n0        0            0\n1        1            3\n2        2            3\n3        3            2\n4        4            0\n...    ...          ...\n1995  1995            2\n1996  1996            0\n1997  1997            3\n1998  1998            0\n1999  1999            3\n\n[2000 rows x 2 columns]",
            "text/html": "<div>\n<style scoped>\n    .dataframe tbody tr th:only-of-type {\n        vertical-align: middle;\n    }\n\n    .dataframe tbody tr th {\n        vertical-align: top;\n    }\n\n    .dataframe thead th {\n        text-align: right;\n    }\n</style>\n<table border=\"1\" class=\"dataframe\">\n  <thead>\n    <tr style=\"text-align: right;\">\n      <th></th>\n      <th>id</th>\n      <th>price_range</th>\n    </tr>\n  </thead>\n  <tbody>\n    <tr>\n      <th>0</th>\n      <td>0</td>\n      <td>0</td>\n    </tr>\n    <tr>\n      <th>1</th>\n      <td>1</td>\n      <td>3</td>\n    </tr>\n    <tr>\n      <th>2</th>\n      <td>2</td>\n      <td>3</td>\n    </tr>\n    <tr>\n      <th>3</th>\n      <td>3</td>\n      <td>2</td>\n    </tr>\n    <tr>\n      <th>4</th>\n      <td>4</td>\n      <td>0</td>\n    </tr>\n    <tr>\n      <th>...</th>\n      <td>...</td>\n      <td>...</td>\n    </tr>\n    <tr>\n      <th>1995</th>\n      <td>1995</td>\n      <td>2</td>\n    </tr>\n    <tr>\n      <th>1996</th>\n      <td>1996</td>\n      <td>0</td>\n    </tr>\n    <tr>\n      <th>1997</th>\n      <td>1997</td>\n      <td>3</td>\n    </tr>\n    <tr>\n      <th>1998</th>\n      <td>1998</td>\n      <td>0</td>\n    </tr>\n    <tr>\n      <th>1999</th>\n      <td>1999</td>\n      <td>3</td>\n    </tr>\n  </tbody>\n</table>\n<p>2000 rows × 2 columns</p>\n</div>"
          },
          "metadata": {}
        }
      ],
      "execution_count": null,
      "block_group": "1a01b682795b433895af3d15d6c89f6b"
    },
    {
      "cell_type": "markdown",
      "source": "<a style='text-decoration:none;line-height:16px;display:flex;color:#5B5B62;padding:10px;justify-content:end;' href='https://deepnote.com?utm_source=created-in-deepnote-cell&projectId=0cf4af83-b6f2-43d0-9e47-37804035f63d' target=\"_blank\">\n<img alt='Created in deepnote.com' style='display:inline;max-height:16px;margin:0px;margin-right:7.5px;' src='data:image/svg+xml;base64,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' > </img>\nCreated in <span style='font-weight:600;margin-left:4px;'>Deepnote</span></a>",
      "metadata": {
        "created_in_deepnote_cell": true,
        "deepnote_cell_type": "markdown"
      }
    }
  ],
  "nbformat": 4,
  "nbformat_minor": 0,
  "metadata": {
    "deepnote": {},
    "orig_nbformat": 2,
    "deepnote_notebook_id": "58c70e371c434e8ab9b0ed9215dc3be8",
    "deepnote_execution_queue": []
  }
}
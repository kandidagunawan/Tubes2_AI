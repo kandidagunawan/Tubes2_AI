{
  "cells": [
    {
      "cell_type": "markdown",
      "source": "# TUGAS BESAR AI 2",
      "metadata": {
        "formattedRanges": [],
        "cell_id": "33038e61d3844a228749264b26ce9c25",
        "deepnote_cell_type": "text-cell-h1"
      },
      "block_group": "9b878b3ccccc4bde9ae70811aef08760"
    },
    {
      "cell_type": "markdown",
      "source": "Nama Anggota:",
      "metadata": {
        "formattedRanges": [],
        "cell_id": "04780b3d2a054976bc7194844de814d9",
        "deepnote_cell_type": "text-cell-p"
      },
      "block_group": "bb336f93cdb94126a1e67ff7ea3b2388"
    },
    {
      "cell_type": "markdown",
      "source": "1. Febryan Arota Hia (13521120)",
      "metadata": {
        "formattedRanges": [],
        "cell_id": "6ad3971dd51140d69974d4ea65cfebd2",
        "deepnote_cell_type": "text-cell-p"
      },
      "block_group": "38df1046c00d41eebd98d3952569a9ed"
    },
    {
      "cell_type": "markdown",
      "source": "2. Michael Utama (13521137)",
      "metadata": {
        "formattedRanges": [],
        "cell_id": "69fbfcb7eaa14b089f312f1c09bbeb67",
        "deepnote_cell_type": "text-cell-p"
      },
      "block_group": "6ce5deab7d204796a35105f914060ba1"
    },
    {
      "cell_type": "markdown",
      "source": "3. Johann Christian Kandani (13521138)",
      "metadata": {
        "formattedRanges": [],
        "cell_id": "c08192e394c743beb9b1e1e9336d02a7",
        "deepnote_cell_type": "text-cell-p"
      },
      "block_group": "324a048ef5394386a92520d18a91c706"
    },
    {
      "cell_type": "markdown",
      "source": "4. Kandida Edgina Gunawan (13521155)",
      "metadata": {
        "formattedRanges": [],
        "cell_id": "3a2fb6b1922b4ae6b7000cba953e6d08",
        "deepnote_cell_type": "text-cell-p"
      },
      "block_group": "829ffea956874db99bc5d6c9c97a752d"
    },
    {
      "cell_type": "code",
      "source": "",
      "metadata": {
        "cell_id": "422d822e90af4246b07de200ae8c31e8",
        "deepnote_cell_type": "code"
      },
      "outputs": [],
      "execution_count": null,
      "block_group": "422d822e90af4246b07de200ae8c31e8"
    },
    {
      "cell_type": "markdown",
      "source": "<a style='text-decoration:none;line-height:16px;display:flex;color:#5B5B62;padding:10px;justify-content:end;' href='https://deepnote.com?utm_source=created-in-deepnote-cell&projectId=0cf4af83-b6f2-43d0-9e47-37804035f63d' target=\"_blank\">\n<img alt='Created in deepnote.com' style='display:inline;max-height:16px;margin:0px;margin-right:7.5px;' src='data:image/svg+xml;base64,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' > </img>\nCreated in <span style='font-weight:600;margin-left:4px;'>Deepnote</span></a>",
      "metadata": {
        "created_in_deepnote_cell": true,
        "deepnote_cell_type": "markdown"
      }
    }
  ],
  "nbformat": 4,
  "nbformat_minor": 0,
  "metadata": {
    "deepnote": {},
    "orig_nbformat": 2,
    "deepnote_notebook_id": "ea45a27c3cfa41cfa59a2a14c6abf502",
    "deepnote_execution_queue": []
  }
}
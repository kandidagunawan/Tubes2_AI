{
  "cells": [
    {
      "cell_type": "markdown",
      "source": "# GAUSSIAN NAIVE BAYES",
      "metadata": {
        "formattedRanges": [],
        "cell_id": "2db42df950314fa888ba99e2c3bd9354",
        "deepnote_cell_type": "text-cell-h1"
      },
      "block_group": "9a1d37b2963e43e1992184b2cc04cf27"
    },
    {
      "cell_type": "markdown",
      "source": "## IMPORTING LIBRARIES",
      "metadata": {
        "formattedRanges": [],
        "cell_id": "79c72bc8cfae4be58e0436e177b0e19e",
        "deepnote_cell_type": "text-cell-h2"
      },
      "block_group": "b49e50a52994431093d2d8a294a935c3"
    },
    {
      "cell_type": "code",
      "source": "import pandas as pd\nimport numpy as np\n\n#scikit-learn\nfrom sklearn.neighbors import KNeighborsClassifier\nfrom sklearn.naive_bayes import GaussianNB\nfrom sklearn.naive_bayes import MultinomialNB\nfrom sklearn.metrics import accuracy_score, precision_score, recall_score, classification_report",
      "metadata": {
        "source_hash": null,
        "execution_start": 1701261410566,
        "execution_millis": 3960,
        "deepnote_to_be_reexecuted": false,
        "cell_id": "31878eb64a3f4a3c878b3e93ef485d86",
        "deepnote_cell_type": "code"
      },
      "outputs": [],
      "execution_count": null,
      "block_group": "31878eb64a3f4a3c878b3e93ef485d86"
    },
    {
      "cell_type": "markdown",
      "source": "## IMPORTING DATASET",
      "metadata": {
        "formattedRanges": [],
        "cell_id": "a77996526fd74b3587dc3ea774b27c03",
        "deepnote_cell_type": "text-cell-h2"
      },
      "block_group": "9c81afa09a3c43e39d420e5185373bb1"
    },
    {
      "cell_type": "code",
      "source": "data_train = pd.read_csv(\"Tubes2_AI/data/data_train.csv\")\ndata_validation = pd.read_csv(\"Tubes2_AI/data/data_validation.csv\")\ndata_test= pd.read_csv(\"Tubes2_AI/data/test.csv\")",
      "metadata": {
        "source_hash": null,
        "execution_start": 1701261414599,
        "execution_millis": 750,
        "deepnote_to_be_reexecuted": false,
        "cell_id": "4c9c6b2913e54b549cc392af36e31893",
        "deepnote_cell_type": "code"
      },
      "outputs": [],
      "execution_count": null,
      "block_group": "34d6f02ab72c419693f2703d9f22886e"
    },
    {
      "cell_type": "markdown",
      "source": "## MODEL",
      "metadata": {
        "formattedRanges": [],
        "cell_id": "51452f70ce354b3ba047efafa030dabc",
        "deepnote_cell_type": "text-cell-h2"
      },
      "block_group": "e25601d1db0543a6a354b4d4d774d8ba"
    },
    {
      "cell_type": "code",
      "source": "y = data_train[['price_range']]\nX = data_train.drop('price_range', axis = 1)\ny_true_test = data_validation['price_range']\nX_test = data_validation.drop('price_range', axis = 1)\n\nX = (X - X.min()) / (X.max() - X.min())\nX_test = (X_test - X_test.min()) / (X_test.max() - X_test.min())\n\nclass GaussianNaiveBayes:\n    def fit(self, feats: np.ndarray, labels: np.ndarray) -> None:\n\n        self.labels = labels\n        self.unique_labels = np.unique(labels)\n        \n        # store the gaussian distribution parameters\n        self.params = []\n        # calculate the mean and variance of all feats\n        for label in self.unique_labels:\n            label_feats = feats[self.labels == label]\n            params = [(col.mean(), col.var()) for col in label_feats.values.T]\n            self.params.append(params)\n\n    # calclate the likelihood\n    def likelihood(self, data: float, mean: float, var: float) -> float:\n        # eps -> to prevent zero division\n        eps = 1e-4\n        exp = -((data - mean) ** 2 / (2 * var + eps))\n        coef = 1 / np.sqrt(2 * np.pi * var + eps)\n        return coef * np.exp(exp)\n\n    def predict(self, feats: np.ndarray) -> np.ndarray:\n        # create empty array for predictions\n        num_samples, _ = feats.shape\n        predictions = np.empty(num_samples)\n\n        for idx, feat in enumerate(feats):\n            # create empty array for posterior\n            posteriors = []\n\n            for label_idx, label in enumerate(self.unique_labels):\n                # calculate the prior of the label\n                prior = np.log((self.labels == label).mean())\n\n                # calculate the total log likelihood of all features\n                pairs = zip(feat, self.params[label_idx])\n                likelihood = np.sum([np.log(self.likelihood(f, m, v)) for f, (m, v) in pairs])\n\n                # calculate posteriors\n                posteriors.append( likelihood)\n\n            # store the label with the largest posterior probability\n            predictions[idx] = self.unique_labels[np.argmax(posteriors)]\n\n        return predictions\n\n# convert to float datatype\ny = y.values.astype(float)\nX_test = X_test.values.astype(float)\n\ngnb = GaussianNaiveBayes()\ngnb.fit(X, y)\ny_pred_test = gnb.predict(X_test)\n\n\naccuracy_score_gnb = accuracy_score(y_true_test, y_pred_test)\nprecision_score_gnb = precision_score(y_true_test, y_pred_test, average='macro')\nrecall_score_gnb = recall_score(y_true_test, y_pred_test, average='macro')\n\nprint(f'Accuracy Score of Gaussian Naive Bayes Algorithm : {accuracy_score_gnb}')\nprint(f'Precision Score of Gaussian Naive Bayes Algorithm : {precision_score_gnb}')\nprint(f'Recall Score of Gaussian Naive Bayes Algorithm : {recall_score_gnb}')",
      "metadata": {
        "source_hash": null,
        "execution_start": 1701261415354,
        "execution_millis": 218,
        "deepnote_to_be_reexecuted": false,
        "cell_id": "09fd952e1c454d9999fef557c39b9bc0",
        "deepnote_cell_type": "code"
      },
      "outputs": [
        {
          "name": "stdout",
          "text": "Accuracy Score of Gaussian Naive Bayes Algorithm : 0.78\nPrecision Score of Gaussian Naive Bayes Algorithm : 0.7804663979309369\nRecall Score of Gaussian Naive Bayes Algorithm : 0.7788856605345197\n",
          "output_type": "stream"
        }
      ],
      "execution_count": null,
      "block_group": "f35cf8d530204ab5bffc91a650717eb8"
    },
    {
      "cell_type": "markdown",
      "source": "## SUBMISSION TO KAGGLE",
      "metadata": {
        "formattedRanges": [],
        "cell_id": "d7648ae2b8f74631ad0749e800794f0f",
        "deepnote_cell_type": "text-cell-h2"
      },
      "block_group": "08b860d48ac640ef99bee5608b75b554"
    },
    {
      "cell_type": "code",
      "source": "training_set = data_train.append(data_validation)\ny = training_set['price_range']\nX = training_set.drop('price_range', axis = 1)\ndata_test= pd.read_csv(\"Tubes2_AI/data/test.csv\")\n\nX_test = data_test.drop('id', axis = 1)\nX_test = X_test.values.astype(float)\nX = (X - X.min()) / (X.max() - X.min())\nX_test = (X_test - X_test.min()) / (X_test.max() - X_test.min())\ngnb = GaussianNaiveBayes()\ngnb.fit(X, y)\ny_pred_test = gnb.predict(X_test)\n\nsubmission = pd.concat([data_test['id'], pd.DataFrame(y_pred_test, columns = ['price_range'])], axis = 1)\nsubmission.to_csv('out3.csv', index = False)\nsubmission",
      "metadata": {
        "source_hash": null,
        "execution_start": 1701261415574,
        "execution_millis": 2313,
        "deepnote_to_be_reexecuted": false,
        "cell_id": "14b1c078230e48ec931ec604eee1eb53",
        "deepnote_cell_type": "code"
      },
      "outputs": [
        {
          "output_type": "execute_result",
          "execution_count": 4,
          "data": {
            "application/vnd.deepnote.dataframe.v3+json": {
              "column_count": 2,
              "row_count": 2000,
              "columns": [
                {
                  "name": "id",
                  "dtype": "int64",
                  "stats": {
                    "unique_count": 2000,
                    "nan_count": 0,
                    "min": "0",
                    "max": "1999",
                    "histogram": [
                      {
                        "bin_start": 0,
                        "bin_end": 199.9,
                        "count": 200
                      },
                      {
                        "bin_start": 199.9,
                        "bin_end": 399.8,
                        "count": 200
                      },
                      {
                        "bin_start": 399.8,
                        "bin_end": 599.7,
                        "count": 200
                      },
                      {
                        "bin_start": 599.7,
                        "bin_end": 799.6,
                        "count": 200
                      },
                      {
                        "bin_start": 799.6,
                        "bin_end": 999.5,
                        "count": 200
                      },
                      {
                        "bin_start": 999.5,
                        "bin_end": 1199.4,
                        "count": 200
                      },
                      {
                        "bin_start": 1199.4,
                        "bin_end": 1399.3,
                        "count": 200
                      },
                      {
                        "bin_start": 1399.3,
                        "bin_end": 1599.2,
                        "count": 200
                      },
                      {
                        "bin_start": 1599.2,
                        "bin_end": 1799.1000000000001,
                        "count": 200
                      },
                      {
                        "bin_start": 1799.1000000000001,
                        "bin_end": 1999,
                        "count": 200
                      }
                    ]
                  }
                },
                {
                  "name": "price_range",
                  "dtype": "float64",
                  "stats": {
                    "unique_count": 4,
                    "nan_count": 0,
                    "min": "0.0",
                    "max": "3.0",
                    "histogram": [
                      {
                        "bin_start": 0,
                        "bin_end": 0.3,
                        "count": 500
                      },
                      {
                        "bin_start": 0.3,
                        "bin_end": 0.6,
                        "count": 0
                      },
                      {
                        "bin_start": 0.6,
                        "bin_end": 0.8999999999999999,
                        "count": 0
                      },
                      {
                        "bin_start": 0.8999999999999999,
                        "bin_end": 1.2,
                        "count": 425
                      },
                      {
                        "bin_start": 1.2,
                        "bin_end": 1.5,
                        "count": 0
                      },
                      {
                        "bin_start": 1.5,
                        "bin_end": 1.7999999999999998,
                        "count": 0
                      },
                      {
                        "bin_start": 1.7999999999999998,
                        "bin_end": 2.1,
                        "count": 678
                      },
                      {
                        "bin_start": 2.1,
                        "bin_end": 2.4,
                        "count": 0
                      },
                      {
                        "bin_start": 2.4,
                        "bin_end": 2.6999999999999997,
                        "count": 0
                      },
                      {
                        "bin_start": 2.6999999999999997,
                        "bin_end": 3,
                        "count": 397
                      }
                    ]
                  }
                },
                {
                  "name": "_deepnote_index_column",
                  "dtype": "int64"
                }
              ],
              "rows": [
                {
                  "id": 0,
                  "price_range": 0,
                  "_deepnote_index_column": 0
                },
                {
                  "id": 1,
                  "price_range": 3,
                  "_deepnote_index_column": 1
                },
                {
                  "id": 2,
                  "price_range": 3,
                  "_deepnote_index_column": 2
                },
                {
                  "id": 3,
                  "price_range": 2,
                  "_deepnote_index_column": 3
                },
                {
                  "id": 4,
                  "price_range": 0,
                  "_deepnote_index_column": 4
                },
                {
                  "id": 5,
                  "price_range": 0,
                  "_deepnote_index_column": 5
                },
                {
                  "id": 6,
                  "price_range": 2,
                  "_deepnote_index_column": 6
                },
                {
                  "id": 7,
                  "price_range": 3,
                  "_deepnote_index_column": 7
                },
                {
                  "id": 8,
                  "price_range": 0,
                  "_deepnote_index_column": 8
                },
                {
                  "id": 9,
                  "price_range": 2,
                  "_deepnote_index_column": 9
                }
              ]
            },
            "text/plain": "        id  price_range\n0        0          0.0\n1        1          3.0\n2        2          3.0\n3        3          2.0\n4        4          0.0\n...    ...          ...\n1995  1995          1.0\n1996  1996          1.0\n1997  1997          3.0\n1998  1998          0.0\n1999  1999          3.0\n\n[2000 rows x 2 columns]",
            "text/html": "<div>\n<style scoped>\n    .dataframe tbody tr th:only-of-type {\n        vertical-align: middle;\n    }\n\n    .dataframe tbody tr th {\n        vertical-align: top;\n    }\n\n    .dataframe thead th {\n        text-align: right;\n    }\n</style>\n<table border=\"1\" class=\"dataframe\">\n  <thead>\n    <tr style=\"text-align: right;\">\n      <th></th>\n      <th>id</th>\n      <th>price_range</th>\n    </tr>\n  </thead>\n  <tbody>\n    <tr>\n      <th>0</th>\n      <td>0</td>\n      <td>0.0</td>\n    </tr>\n    <tr>\n      <th>1</th>\n      <td>1</td>\n      <td>3.0</td>\n    </tr>\n    <tr>\n      <th>2</th>\n      <td>2</td>\n      <td>3.0</td>\n    </tr>\n    <tr>\n      <th>3</th>\n      <td>3</td>\n      <td>2.0</td>\n    </tr>\n    <tr>\n      <th>4</th>\n      <td>4</td>\n      <td>0.0</td>\n    </tr>\n    <tr>\n      <th>...</th>\n      <td>...</td>\n      <td>...</td>\n    </tr>\n    <tr>\n      <th>1995</th>\n      <td>1995</td>\n      <td>1.0</td>\n    </tr>\n    <tr>\n      <th>1996</th>\n      <td>1996</td>\n      <td>1.0</td>\n    </tr>\n    <tr>\n      <th>1997</th>\n      <td>1997</td>\n      <td>3.0</td>\n    </tr>\n    <tr>\n      <th>1998</th>\n      <td>1998</td>\n      <td>0.0</td>\n    </tr>\n    <tr>\n      <th>1999</th>\n      <td>1999</td>\n      <td>3.0</td>\n    </tr>\n  </tbody>\n</table>\n<p>2000 rows × 2 columns</p>\n</div>"
          },
          "metadata": {}
        }
      ],
      "execution_count": null,
      "block_group": "37f45b67603a4a03b5d8c7b25b763018"
    },
    {
      "cell_type": "markdown",
      "source": "## EXPORT MODEL",
      "metadata": {
        "formattedRanges": [],
        "cell_id": "a2929cea04b54c90bc5870957f7e58b2",
        "deepnote_cell_type": "text-cell-h2"
      },
      "block_group": "cb223bd6fc154f8fa6971d695c32ddf3"
    },
    {
      "cell_type": "code",
      "source": "with open('model-naive-bayes-2.pkl', 'wb') as file:\n    pickle.dump(nb, file)",
      "metadata": {
        "source_hash": null,
        "execution_start": 1701261417854,
        "execution_millis": 512,
        "deepnote_to_be_reexecuted": false,
        "cell_id": "4879763f5b9e49089a8e9a709058a426",
        "deepnote_cell_type": "code"
      },
      "outputs": [
        {
          "output_type": "error",
          "ename": "NameError",
          "evalue": "name 'pickle' is not defined",
          "traceback": [
            "\u001b[0;31m---------------------------------------------------------------------------\u001b[0m",
            "\u001b[0;31mNameError\u001b[0m                                 Traceback (most recent call last)",
            "Cell \u001b[0;32mIn [5], line 2\u001b[0m\n\u001b[1;32m      1\u001b[0m \u001b[38;5;28;01mwith\u001b[39;00m \u001b[38;5;28mopen\u001b[39m(\u001b[38;5;124m'\u001b[39m\u001b[38;5;124mmodel-naive-bayes-2.pkl\u001b[39m\u001b[38;5;124m'\u001b[39m, \u001b[38;5;124m'\u001b[39m\u001b[38;5;124mwb\u001b[39m\u001b[38;5;124m'\u001b[39m) \u001b[38;5;28;01mas\u001b[39;00m file:\n\u001b[0;32m----> 2\u001b[0m     \u001b[43mpickle\u001b[49m\u001b[38;5;241m.\u001b[39mdump(nb, file)\n",
            "\u001b[0;31mNameError\u001b[0m: name 'pickle' is not defined"
          ]
        }
      ],
      "execution_count": null,
      "block_group": "43195673bdbd46da8641f79402d8ef6a"
    },
    {
      "cell_type": "markdown",
      "source": "## LOAD MODEL",
      "metadata": {
        "formattedRanges": [],
        "cell_id": "a6086b61851f4be3bb775b0ab5a364eb",
        "deepnote_cell_type": "text-cell-h2"
      },
      "block_group": "0e971c2ac35d4ac486875b4d1ee59b9e"
    },
    {
      "cell_type": "code",
      "source": "with open('model-naive-bayes-2.pkl', 'rb') as file:\n    loaded_model = pickle.load(file)",
      "metadata": {
        "source_hash": null,
        "deepnote_to_be_reexecuted": true,
        "cell_id": "0d60b5a6ff3844a681dd709f4d2ce632",
        "deepnote_cell_type": "code"
      },
      "outputs": [],
      "execution_count": null,
      "block_group": "3995c4b0924e4aac992d4f09c48ea11e"
    },
    {
      "cell_type": "markdown",
      "source": "## GAUSSIAN NAIVE BAYES USING SCIKIT-LEARN",
      "metadata": {
        "formattedRanges": [],
        "cell_id": "939fab3719d34d92ab80aad170c290ed",
        "deepnote_cell_type": "text-cell-h2"
      },
      "block_group": "5176977106a141c3b2475f8fc43ae107"
    },
    {
      "cell_type": "code",
      "source": "y = data_train['price_range']\nX = data_train.drop('price_range', axis = 1)\nnaiveBayesModel = GaussianNB()\nnaiveBayesModel.fit(X, y)\n\ny_true_test = data_validation['price_range']\nX_test = data_validation.drop('price_range', axis = 1)\ny_pred_test = naiveBayesModel.predict(X_test)\naccuracy_score_2 = accuracy_score(y_true_test, y_pred_test)\nprecision_score_2 = precision_score(y_true_test, y_pred_test, average='macro')\nrecall_score_2 = recall_score(y_true_test, y_pred_test, average='macro')\n\nprint(f'Accuracy Score of Naive Bayes Algorithm : {accuracy_score_2}')\nprint(f'Precision Score of Naive Bayes Algorithm : {precision_score_2}')\nprint(f'Recall Score of Naive Bayes Algorithm : {recall_score_2}')",
      "metadata": {
        "source_hash": null,
        "deepnote_to_be_reexecuted": true,
        "cell_id": "042e86841af14e6b9a0a2d4a1ce5dc10",
        "deepnote_cell_type": "code"
      },
      "outputs": [],
      "execution_count": null,
      "block_group": "d8ee38575dca47dcbd9cb102f949fdd9"
    },
    {
      "cell_type": "markdown",
      "source": "<a style='text-decoration:none;line-height:16px;display:flex;color:#5B5B62;padding:10px;justify-content:end;' href='https://deepnote.com?utm_source=created-in-deepnote-cell&projectId=0cf4af83-b6f2-43d0-9e47-37804035f63d' target=\"_blank\">\n<img alt='Created in deepnote.com' style='display:inline;max-height:16px;margin:0px;margin-right:7.5px;' src='data:image/svg+xml;base64,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' > </img>\nCreated in <span style='font-weight:600;margin-left:4px;'>Deepnote</span></a>",
      "metadata": {
        "created_in_deepnote_cell": true,
        "deepnote_cell_type": "markdown"
      }
    }
  ],
  "nbformat": 4,
  "nbformat_minor": 0,
  "metadata": {
    "deepnote": {},
    "orig_nbformat": 2,
    "deepnote_notebook_id": "5517e5b36f5e46228252bde2ef5d3790",
    "deepnote_persisted_session": {
      "createdAt": "2023-11-29T13:00:26.792Z"
    },
    "deepnote_execution_queue": []
  }
}
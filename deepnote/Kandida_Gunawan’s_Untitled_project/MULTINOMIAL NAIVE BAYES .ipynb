{
  "cells": [
    {
      "cell_type": "markdown",
      "source": "# MULTINOMIAL NAIVE BAYES",
      "metadata": {
        "formattedRanges": [],
        "cell_id": "2fd00b37497b4c3a8f61b1763eaa6230",
        "deepnote_cell_type": "text-cell-h1"
      },
      "block_group": "bd08ba9350914e249fbf0ad20a98f80f"
    },
    {
      "cell_type": "markdown",
      "source": "## IMPORTING LIBRARIES",
      "metadata": {
        "formattedRanges": [],
        "cell_id": "6f4c2e9650a44b68bdfe2c83ef99895b",
        "deepnote_cell_type": "text-cell-h2"
      },
      "block_group": "d78e408ccc114b0ba043c03fd59cc2e8"
    },
    {
      "cell_type": "code",
      "source": "import pandas as pd\nimport numpy as np\nimport pickle\n\n#scikit-learn\nfrom sklearn.neighbors import KNeighborsClassifier\nfrom sklearn.naive_bayes import GaussianNB\nfrom sklearn.naive_bayes import MultinomialNB\nfrom sklearn.metrics import accuracy_score, precision_score, recall_score, classification_report",
      "metadata": {
        "source_hash": "87111ff1",
        "execution_start": 1701268951659,
        "execution_millis": 1209,
        "deepnote_to_be_reexecuted": false,
        "cell_id": "3cb1d606f1ce4eb9b28a00a621fd42a9",
        "deepnote_cell_type": "code"
      },
      "outputs": [],
      "execution_count": 1,
      "block_group": "3cb1d606f1ce4eb9b28a00a621fd42a9"
    },
    {
      "cell_type": "markdown",
      "source": "## IMPORTING DATASET",
      "metadata": {
        "formattedRanges": [],
        "cell_id": "8e273dc3f7504b59a16af921f7edbc66",
        "deepnote_cell_type": "text-cell-h2"
      },
      "block_group": "9f94dbec20d249a18c00870ba1282641"
    },
    {
      "cell_type": "code",
      "source": "data_train = pd.read_csv(\"Tubes2_AI/data/data_train.csv\")\ndata_validation = pd.read_csv(\"Tubes2_AI/data/data_validation.csv\")\ndata_test= pd.read_csv(\"Tubes2_AI/data/test.csv\")",
      "metadata": {
        "source_hash": "b3b34217",
        "execution_start": 1701268952873,
        "execution_millis": 485,
        "deepnote_to_be_reexecuted": false,
        "cell_id": "569eacaa159f4f5384cce70422535fc8",
        "deepnote_cell_type": "code"
      },
      "outputs": [],
      "execution_count": 2,
      "block_group": "660468abe48d4cd7bed40920fbcbf856"
    },
    {
      "cell_type": "markdown",
      "source": "## MODEL",
      "metadata": {
        "formattedRanges": [],
        "cell_id": "069571942b5f493ba98c21fb061e91c3",
        "deepnote_cell_type": "text-cell-h2"
      },
      "block_group": "8ed2a0d01bdf4292bd4828022c670e67"
    },
    {
      "cell_type": "code",
      "source": "class Category:\n    def __init__(self, _attribute_name, _category_value, _data_train, _non_numerical_columns):  \n        self.attribute_name = _attribute_name\n        self.category_value = _category_value\n        self.data_train = _data_train\n        self.prob_category_value_0 = 0\n        self.prob_category_value_1 = 0\n        self.prob_category_value_2 = 0\n        self.prob_category_value_3 = 0\n        self.non_numerical_columns = []\n        self.lower_bound = 0\n        self.upper_bound = 0\n\n        if self.attribute_name not in _non_numerical_columns:\n            self.lower_bound = float(self.category_value.split(\" to \")[0])\n            self.upper_bound = float(self.category_value.split(\" to \")[1])\n        else: \n            self.lower_bound = self.category_value\n            self.upper_bound = self.category_value\n        \n    def num_of_category_value(self):\n        return len(self.data_train[self.data_train[self.attribute_name] == self.category_value])\n    \n    def num_of_x_category_value(self, x):\n        return len(self.data_train[(self.data_train[self.attribute_name] == self.category_value) & (self.data_train['price_range'] == x)])\n    \n    def update_category(self, total_count_0, total_count_1, total_count_2, total_count_3):\n        self.prob_category_value_0 = self.num_of_x_category_value(0) / total_count_0\n        self.prob_category_value_1 = self.num_of_x_category_value(1) / total_count_1\n        self.prob_category_value_2 = self.num_of_x_category_value(2) / total_count_2\n        self.prob_category_value_3 = self.num_of_x_category_value(3) / total_count_3\n\n\nclass Attribute:\n    def __init__(self, _attribute_name):\n        self.attribute_name = _attribute_name\n        self.category_value_list = []\n        \n    def add_category(self, c):\n        self.category_value_list.append(c)\n    \n        \n    def find_category(self, _category_value):\n        for c in self.category_value_list:\n            if float(c.lower_bound) <= _category_value <= float(c.upper_bound):\n                return c\n\nclass NaiveBayes:\n    def __init__(self):\n        self.attribute_arr = []\n    def add_attribute(self, a):\n        self.attribute_arr.append(a)\n    def convert_df(self, data_train):\n        non_numerical_columns = []\n        for col in data_train.columns:\n            if len(data_train[col].unique()) <= 4 or col == \"id\":\n                non_numerical_columns.append(col)\n        dummy_df = data_train.copy()  # Make a copy to avoid modifying the original DataFrame\n\n        for col in dummy_df.columns:\n            if col not in non_numerical_columns:\n                iqr = np.percentile(data_train[col], 75) - np.percentile(data_train[col], 25)\n                num_bins = 4\n                hist, bin_edges = np.histogram(data_train[col], bins=num_bins)\n                bin_labels = [f'Bin_{i+1}' for i in range(len(bin_edges)-1)]\n                for i in range(len(bin_edges) - 1):\n                    mask = (data_train[col] >= bin_edges[i]) & (data_train[col] <= bin_edges[i + 1])\n                    dummy_df.loc[mask, col] = (str(bin_edges[i]) + \" to \" + str(bin_edges[i+1]))\n\n        return dummy_df    \n    def find_attribute(self, _attribute_name):\n        for a in self.attribute_arr:\n            if a.attribute_name == _attribute_name:\n                return a\n                \n    def fit(self, X, y):\n        total_count_0 = len(y[y == 0])\n        total_count_1 = len(y[y == 1])\n        total_count_2 = len(y[y == 2])\n        total_count_3 = len(y[y == 3])\n        non_numerical_columns = []\n        for col in X.columns:\n            if (len(X[col].unique())) <= 4:\n                non_numerical_columns.append(col)\n\n        X = self.convert_df(X)\n        for col in X.columns:\n            new_attribute = Attribute(_attribute_name=col)\n            self.add_attribute(new_attribute)\n            min_val = np.inf\n            max_val = -np.inf\n            for val in X[col].unique():\n                if col not in non_numerical_columns:\n                    temp = val.split(\" to \")[0]\n                    if float(temp) < min_val:\n                        min_val = float(temp)\n                    temp = val.split(\" to \")[1]\n                    if float(temp) > max_val:\n                        max_val = float(temp)\n                new_category = Category(_attribute_name=col, _category_value=val, _data_train=pd.concat([X, y], axis=1), _non_numerical_columns= non_numerical_columns)\n                new_category.update_category(total_count_0, total_count_1, total_count_2, total_count_3)\n                new_attribute.add_category(new_category)\n            val = str(-999999) + \" to \" + str(min_val)\n            new_category = Category(_attribute_name=col, _category_value=val, _data_train=pd.concat([X, y], axis=1), _non_numerical_columns= non_numerical_columns)\n            new_category.update_category(total_count_0, total_count_1, total_count_2, total_count_3)\n            new_attribute.add_category(new_category)\n            val = str(max_val) + \" to \" + str(999999)\n            new_category = Category(_attribute_name=col, _category_value=val, _data_train=pd.concat([X, y], axis=1), _non_numerical_columns= non_numerical_columns)\n            new_category.update_category(total_count_0, total_count_1, total_count_2, total_count_3)\n            new_attribute.add_category(new_category)\n\n\n    \n    def predict(self, X_test_disc): \n        y_prediction = []\n        total_count_0 = len(y[y == 0])\n        total_count_1 = len(y[y == 1])\n        total_count_2 = len(y[y == 2])\n        total_count_3 = len(y[y == 3])\n        \n        for index, row in X_test_disc.iterrows():\n            p_0 = 1\n            p_1 = 1\n            p_2 = 1\n            p_3 = 1\n            for x in row.index:\n                _attribute_name = x\n                _category_value = row[x]\n                \n                attribute = self.find_attribute(_attribute_name)\n                category = attribute.find_category(float(_category_value))\n                p_0 *= category.prob_category_value_0\n                p_1 *= category.prob_category_value_1\n                p_2 *= category.prob_category_value_2\n                p_3 *= category.prob_category_value_3\n            total = total_count_0 + total_count_1 + total_count_2 + total_count_3\n            p_0 *= (total_count_0 / total)\n            p_1 *= (total_count_1 / total)\n            p_2 *= (total_count_2 / total)\n            p_3 *= (total_count_3 / total)\n\n            if p_0 >= p_1 and p_0 >= p_2 and p_0 >= p_3:\n                y_prediction.append(0)\n            elif p_1 >= p_0 and p_1 >= p_2 and p_1 >= p_3:\n                y_prediction.append(1)\n            elif p_2 >= p_1 and p_2 >= p_0 and p_2 >= p_3:\n                y_prediction.append(2)\n            else:\n                y_prediction.append(3)\n        \n        return y_prediction\n\n# Usage\ny = data_train['price_range']\n# data_train['processor_performance'] = data_train['n_cores'] * data_train['clock_speed']\nnb = NaiveBayes()\nnb.fit(data_train.drop('price_range', axis = 1), y)\n# data_validation['processor_performance'] = data_validation['n_cores'] * data_validation['clock_speed']\nX_test = data_validation.drop('price_range', axis = 1)\ny_pred = nb.predict(X_test)\ny_true_test = data_validation['price_range'] \nprecision_score_naive = precision_score(y_true_test, y_pred, average='macro')\nrecall_score_naive = recall_score(y_true_test, y_pred, average='macro')\nprint(f\"Accuracy score: {accuracy_score(y_true_test, y_pred)}\")\nprint(f\"Precision score: {precision_score_naive}\")\nprint(f\"Recall score: {recall_score_naive}\")\n\n",
      "metadata": {
        "source_hash": "7fe1cf",
        "execution_start": 1701268953371,
        "execution_millis": 1277,
        "deepnote_to_be_reexecuted": false,
        "cell_id": "827367a7cb0647a191ccf22a07e451c8",
        "deepnote_cell_type": "code"
      },
      "outputs": [
        {
          "name": "stdout",
          "text": "Accuracy score: 0.7666666666666667\nPrecision score: 0.7700290185190727\nRecall score: 0.7656934306352077\n",
          "output_type": "stream"
        }
      ],
      "execution_count": 3,
      "block_group": "1790e4aafe6e47e4ad47945ee3d7e5b5"
    },
    {
      "cell_type": "markdown",
      "source": "## MULTINOMIAL NAIVE BAYES SCIKIT-LEARN",
      "metadata": {
        "formattedRanges": [],
        "cell_id": "8f5d62d3385a428f9e51b3c9ea7ba45e",
        "deepnote_cell_type": "text-cell-h2"
      },
      "block_group": "6e14b4a3b269464ca2cb96b8036cc2a9"
    },
    {
      "cell_type": "code",
      "source": "y = data_train['price_range']\nX = data_train.drop('price_range', axis = 1)\nMultinomialNaiveBayesModel = MultinomialNB()\nMultinomialNaiveBayesModel.fit(X, y)\n\ny_true_test = data_validation['price_range']\nX_test = data_validation.drop('price_range', axis = 1)\ny_pred_test = MultinomialNaiveBayesModel.predict(X_test)\naccuracy_score_3 = accuracy_score(y_true_test, y_pred_test)\nprecision_score_3 = precision_score(y_true_test, y_pred_test, average='macro')\nrecall_score_3 = recall_score(y_true_test, y_pred_test, average='macro')\n\nprint(f'Accuracy Score of Multinomial Naive Bayes Algorithm : {accuracy_score_3}')\nprint(f'Precision Score of Multinomial Naive Bayes Algorithm : {precision_score_3}')\nprint(f'Recall Score of Multinomial Naive Bayes Algorithm : {recall_score_3}')",
      "metadata": {
        "source_hash": "f0fe59fc",
        "execution_start": 1701268954669,
        "execution_millis": 18,
        "deepnote_to_be_reexecuted": false,
        "cell_id": "76b1ac8e7c1e4f8b898bafa04743c353",
        "deepnote_cell_type": "code"
      },
      "outputs": [
        {
          "name": "stdout",
          "text": "Accuracy Score of Multinomial Naive Bayes Algorithm : 0.5316666666666666\nPrecision Score of Multinomial Naive Bayes Algorithm : 0.5194204225246274\nRecall Score of Multinomial Naive Bayes Algorithm : 0.5323794448063915\n",
          "output_type": "stream"
        }
      ],
      "execution_count": 4,
      "block_group": "b07949f749be458d8a9eb1aa853d9e98"
    },
    {
      "cell_type": "markdown",
      "source": "## EXPORT MODEL",
      "metadata": {
        "formattedRanges": [],
        "cell_id": "a4b1672d5f424c03b12c79545eeeb615",
        "deepnote_cell_type": "text-cell-h2"
      },
      "block_group": "061bc9714b4947e784bec97e7378e109"
    },
    {
      "cell_type": "code",
      "source": "with open('Tubes2_AI/model-naive-bayes-1.pkl', 'wb') as file:\n    pickle.dump(nb, file)",
      "metadata": {
        "source_hash": "f3124922",
        "execution_start": 1701268954711,
        "execution_millis": 657,
        "deepnote_to_be_reexecuted": false,
        "cell_id": "901325cd39db42a1811cfc017de5594a",
        "deepnote_cell_type": "code"
      },
      "outputs": [],
      "execution_count": 5,
      "block_group": "a37a3933ec42492f9eea7f7546cdecd1"
    },
    {
      "cell_type": "markdown",
      "source": "## READ MODEL",
      "metadata": {
        "formattedRanges": [],
        "cell_id": "40ff16d391164c4aa573ec65cb86758e",
        "deepnote_cell_type": "text-cell-h2"
      },
      "block_group": "eaaa1649a4854c3aafb786b5bbd9e68a"
    },
    {
      "cell_type": "code",
      "source": "with open('Tubes2_AI/model-naive-bayes-1.pkl', 'rb') as file:\n    loaded_model = pickle.load(file)",
      "metadata": {
        "source_hash": "947a111b",
        "execution_start": 1701268955372,
        "execution_millis": 216,
        "deepnote_to_be_reexecuted": false,
        "cell_id": "a9036cd1bbbd4f308c863e87e1daa7ae",
        "deepnote_cell_type": "code"
      },
      "outputs": [],
      "execution_count": 6,
      "block_group": "8df5d748f9244cdaaaaf1997f8ef8b99"
    },
    {
      "cell_type": "markdown",
      "source": "## SUBMISSION TO KAGGLE",
      "metadata": {
        "formattedRanges": [],
        "cell_id": "1d75108e296a473881af85f574ff8315",
        "deepnote_cell_type": "text-cell-h2"
      },
      "block_group": "15e5712a80b8429f9871abe940f076c8"
    },
    {
      "cell_type": "code",
      "source": "training_set = data_train.append(data_validation)\ny = training_set['price_range']\nX = training_set.drop('price_range', axis = 1)\ndata_test= pd.read_csv(\"Tubes2_AI/data/test.csv\")\n\nX_test = data_test.drop('id', axis = 1)\n\nnb = NaiveBayes()\nnb.fit(X, y)\ny_test= nb.predict(X_test)\nsubmission = pd.concat([data_test['id'], pd.DataFrame(y_test, columns = ['price_range'])], axis = 1)\n\nsubmission.to_csv('Tubes2_AI/out2.csv', index = False)\nsubmission",
      "metadata": {
        "source_hash": "c6998095",
        "execution_start": 1701268955648,
        "execution_millis": 2454,
        "deepnote_to_be_reexecuted": false,
        "cell_id": "a1f7ceb3676a4683ab7e45f4f47863ef",
        "deepnote_cell_type": "code"
      },
      "outputs": [
        {
          "output_type": "execute_result",
          "execution_count": 7,
          "data": {
            "application/vnd.deepnote.dataframe.v3+json": {
              "column_count": 2,
              "row_count": 2000,
              "columns": [
                {
                  "name": "id",
                  "dtype": "int64",
                  "stats": {
                    "unique_count": 2000,
                    "nan_count": 0,
                    "min": "0",
                    "max": "1999",
                    "histogram": [
                      {
                        "bin_start": 0,
                        "bin_end": 199.9,
                        "count": 200
                      },
                      {
                        "bin_start": 199.9,
                        "bin_end": 399.8,
                        "count": 200
                      },
                      {
                        "bin_start": 399.8,
                        "bin_end": 599.7,
                        "count": 200
                      },
                      {
                        "bin_start": 599.7,
                        "bin_end": 799.6,
                        "count": 200
                      },
                      {
                        "bin_start": 799.6,
                        "bin_end": 999.5,
                        "count": 200
                      },
                      {
                        "bin_start": 999.5,
                        "bin_end": 1199.4,
                        "count": 200
                      },
                      {
                        "bin_start": 1199.4,
                        "bin_end": 1399.3,
                        "count": 200
                      },
                      {
                        "bin_start": 1399.3,
                        "bin_end": 1599.2,
                        "count": 200
                      },
                      {
                        "bin_start": 1599.2,
                        "bin_end": 1799.1000000000001,
                        "count": 200
                      },
                      {
                        "bin_start": 1799.1000000000001,
                        "bin_end": 1999,
                        "count": 200
                      }
                    ]
                  }
                },
                {
                  "name": "price_range",
                  "dtype": "int64",
                  "stats": {
                    "unique_count": 4,
                    "nan_count": 0,
                    "min": "0",
                    "max": "3",
                    "histogram": [
                      {
                        "bin_start": 0,
                        "bin_end": 0.3,
                        "count": 470
                      },
                      {
                        "bin_start": 0.3,
                        "bin_end": 0.6,
                        "count": 0
                      },
                      {
                        "bin_start": 0.6,
                        "bin_end": 0.8999999999999999,
                        "count": 0
                      },
                      {
                        "bin_start": 0.8999999999999999,
                        "bin_end": 1.2,
                        "count": 515
                      },
                      {
                        "bin_start": 1.2,
                        "bin_end": 1.5,
                        "count": 0
                      },
                      {
                        "bin_start": 1.5,
                        "bin_end": 1.7999999999999998,
                        "count": 0
                      },
                      {
                        "bin_start": 1.7999999999999998,
                        "bin_end": 2.1,
                        "count": 532
                      },
                      {
                        "bin_start": 2.1,
                        "bin_end": 2.4,
                        "count": 0
                      },
                      {
                        "bin_start": 2.4,
                        "bin_end": 2.6999999999999997,
                        "count": 0
                      },
                      {
                        "bin_start": 2.6999999999999997,
                        "bin_end": 3,
                        "count": 483
                      }
                    ]
                  }
                },
                {
                  "name": "_deepnote_index_column",
                  "dtype": "int64"
                }
              ],
              "rows": [
                {
                  "id": 0,
                  "price_range": 0,
                  "_deepnote_index_column": 0
                },
                {
                  "id": 1,
                  "price_range": 3,
                  "_deepnote_index_column": 1
                },
                {
                  "id": 2,
                  "price_range": 3,
                  "_deepnote_index_column": 2
                },
                {
                  "id": 3,
                  "price_range": 2,
                  "_deepnote_index_column": 3
                },
                {
                  "id": 4,
                  "price_range": 0,
                  "_deepnote_index_column": 4
                },
                {
                  "id": 5,
                  "price_range": 0,
                  "_deepnote_index_column": 5
                },
                {
                  "id": 6,
                  "price_range": 2,
                  "_deepnote_index_column": 6
                },
                {
                  "id": 7,
                  "price_range": 2,
                  "_deepnote_index_column": 7
                },
                {
                  "id": 8,
                  "price_range": 0,
                  "_deepnote_index_column": 8
                },
                {
                  "id": 9,
                  "price_range": 2,
                  "_deepnote_index_column": 9
                }
              ]
            },
            "text/plain": "        id  price_range\n0        0            0\n1        1            3\n2        2            3\n3        3            2\n4        4            0\n...    ...          ...\n1995  1995            1\n1996  1996            1\n1997  1997            3\n1998  1998            0\n1999  1999            3\n\n[2000 rows x 2 columns]",
            "text/html": "<div>\n<style scoped>\n    .dataframe tbody tr th:only-of-type {\n        vertical-align: middle;\n    }\n\n    .dataframe tbody tr th {\n        vertical-align: top;\n    }\n\n    .dataframe thead th {\n        text-align: right;\n    }\n</style>\n<table border=\"1\" class=\"dataframe\">\n  <thead>\n    <tr style=\"text-align: right;\">\n      <th></th>\n      <th>id</th>\n      <th>price_range</th>\n    </tr>\n  </thead>\n  <tbody>\n    <tr>\n      <th>0</th>\n      <td>0</td>\n      <td>0</td>\n    </tr>\n    <tr>\n      <th>1</th>\n      <td>1</td>\n      <td>3</td>\n    </tr>\n    <tr>\n      <th>2</th>\n      <td>2</td>\n      <td>3</td>\n    </tr>\n    <tr>\n      <th>3</th>\n      <td>3</td>\n      <td>2</td>\n    </tr>\n    <tr>\n      <th>4</th>\n      <td>4</td>\n      <td>0</td>\n    </tr>\n    <tr>\n      <th>...</th>\n      <td>...</td>\n      <td>...</td>\n    </tr>\n    <tr>\n      <th>1995</th>\n      <td>1995</td>\n      <td>1</td>\n    </tr>\n    <tr>\n      <th>1996</th>\n      <td>1996</td>\n      <td>1</td>\n    </tr>\n    <tr>\n      <th>1997</th>\n      <td>1997</td>\n      <td>3</td>\n    </tr>\n    <tr>\n      <th>1998</th>\n      <td>1998</td>\n      <td>0</td>\n    </tr>\n    <tr>\n      <th>1999</th>\n      <td>1999</td>\n      <td>3</td>\n    </tr>\n  </tbody>\n</table>\n<p>2000 rows × 2 columns</p>\n</div>"
          },
          "metadata": {}
        }
      ],
      "execution_count": 7,
      "block_group": "488018f07f5d4e64abc3a52e0a166730"
    },
    {
      "cell_type": "markdown",
      "source": "<a style='text-decoration:none;line-height:16px;display:flex;color:#5B5B62;padding:10px;justify-content:end;' href='https://deepnote.com?utm_source=created-in-deepnote-cell&projectId=0cf4af83-b6f2-43d0-9e47-37804035f63d' target=\"_blank\">\n<img alt='Created in deepnote.com' style='display:inline;max-height:16px;margin:0px;margin-right:7.5px;' src='data:image/svg+xml;base64,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' > </img>\nCreated in <span style='font-weight:600;margin-left:4px;'>Deepnote</span></a>",
      "metadata": {
        "created_in_deepnote_cell": true,
        "deepnote_cell_type": "markdown"
      }
    }
  ],
  "nbformat": 4,
  "nbformat_minor": 0,
  "metadata": {
    "deepnote": {},
    "orig_nbformat": 2,
    "deepnote_notebook_id": "4be9be2e2e674274abc6b13ed56c6ee8",
    "deepnote_execution_queue": []
  }
}